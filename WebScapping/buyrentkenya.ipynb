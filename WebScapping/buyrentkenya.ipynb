{
 "cells": [
  {
   "cell_type": "code",
   "execution_count": 1,
   "metadata": {},
   "outputs": [],
   "source": [
    "import requests\n",
    "from bs4 import BeautifulSoup\n",
    "\n",
    "import pandas as pd"
   ]
  },
  {
   "cell_type": "code",
   "execution_count": 2,
   "metadata": {},
   "outputs": [
    {
     "name": "stdout",
     "output_type": "stream",
     "text": [
      "Request successful\n"
     ]
    }
   ],
   "source": [
    "url = 'https://www.buyrentkenya.com/flats-apartments-for-rent'\n",
    "\n",
    "response = requests.get(url)\n",
    "\n",
    "if response.status_code == 200:\n",
    "    print(\"Request successful\")\n",
    "else:\n",
    "    print(\"Request failed \", response.status_code)"
   ]
  },
  {
   "cell_type": "code",
   "execution_count": 3,
   "metadata": {},
   "outputs": [],
   "source": [
    "soup = BeautifulSoup(response.text, 'lxml')"
   ]
  },
  {
   "cell_type": "code",
   "execution_count": 4,
   "metadata": {},
   "outputs": [],
   "source": [
    "for page in range(1, 216):\n",
    "    pass"
   ]
  },
  {
   "cell_type": "markdown",
   "metadata": {},
   "source": [
    "## scrapping for 1 house"
   ]
  },
  {
   "cell_type": "code",
   "execution_count": 5,
   "metadata": {},
   "outputs": [],
   "source": [
    "house_url = 'https://www.buyrentkenya.com/listings/furnished-2-bedroom-apartment-for-rent-kileleshwa-3643819'\n",
    "\n",
    "res = requests.get(house_url)\n",
    "if res.status_code != 200:\n",
    "    print(\"Request failed\")"
   ]
  },
  {
   "cell_type": "code",
   "execution_count": 6,
   "metadata": {},
   "outputs": [],
   "source": [
    "house_soup = BeautifulSoup(res.text, 'lxml')"
   ]
  },
  {
   "cell_type": "code",
   "execution_count": 12,
   "metadata": {},
   "outputs": [
    {
     "data": {
      "text/plain": [
       "'Nairobi'"
      ]
     },
     "execution_count": 12,
     "metadata": {},
     "output_type": "execute_result"
    }
   ],
   "source": [
    "city = house_soup.find('ul', class_='list-reset flex flex-nowrap text-xs font-extralight overflow-x-auto h-8 scrollbar-hidden font-normal').find_all('li', class_=\"flex items-center whitespace-nowrap\")[3].text.strip()\n",
    "city"
   ]
  },
  {
   "cell_type": "code",
   "execution_count": 13,
   "metadata": {},
   "outputs": [
    {
     "data": {
      "text/plain": [
       "'Kileleshwa'"
      ]
     },
     "execution_count": 13,
     "metadata": {},
     "output_type": "execute_result"
    }
   ],
   "source": [
    "location = house_soup.find('ul', class_='list-reset flex flex-nowrap text-xs font-extralight overflow-x-auto h-8 scrollbar-hidden font-normal').find_all('li', class_=\"flex items-center whitespace-nowrap\")[4].text.strip()\n",
    "location"
   ]
  },
  {
   "cell_type": "code",
   "execution_count": 14,
   "metadata": {},
   "outputs": [
    {
     "data": {
      "text/plain": [
       "'Building Area 140 m²'"
      ]
     },
     "execution_count": 14,
     "metadata": {},
     "output_type": "execute_result"
    }
   ],
   "source": [
    "bdg_area = house_soup.find('div', class_='flex flex-wrap md:justify-start w-full md:w-auto my-4 overflow-hidden').find('span', class_='flex items-center mr-5 max-w-24').text.strip()\n",
    "bdg_area"
   ]
  },
  {
   "cell_type": "code",
   "execution_count": 15,
   "metadata": {},
   "outputs": [
    {
     "data": {
      "text/plain": [
       "'2'"
      ]
     },
     "execution_count": 15,
     "metadata": {},
     "output_type": "execute_result"
    }
   ],
   "source": [
    "bedrooms = house_soup.find('div', class_='flex flex-wrap md:justify-start w-full md:w-auto my-4 overflow-hidden').find('span', class_='flex items-center mr-5 max-w-24 truncate').text.strip()\n",
    "bedrooms"
   ]
  },
  {
   "cell_type": "code",
   "execution_count": 17,
   "metadata": {},
   "outputs": [
    {
     "data": {
      "text/plain": [
       "'2'"
      ]
     },
     "execution_count": 17,
     "metadata": {},
     "output_type": "execute_result"
    }
   ],
   "source": [
    "bathrooms = house_soup.find('div', class_='flex flex-wrap md:justify-start w-full md:w-auto my-4 overflow-hidden').find('span', class_='flex items-center max-w-24 truncate').text.strip()\n",
    "bathrooms"
   ]
  },
  {
   "cell_type": "code",
   "execution_count": null,
   "metadata": {},
   "outputs": [],
   "source": [
    "ammenities = house_soup.find('div', class_='grid md:grid-cols-2 gap-5 w-full').find_all('div', class_='flex flex-col pb-2')\n",
    "house_details = []\n",
    "for k in ammenities:\n",
    "    features = k.find('ul', class_='items-center flex flex-row flex-wrap').find_all('li')\n",
    "    for feat in features:\n",
    "        house_details.append(feat.find('div').text.split())\n",
    "\n",
    "house_details"
   ]
  },
  {
   "cell_type": "code",
   "execution_count": 49,
   "metadata": {},
   "outputs": [
    {
     "data": {
      "text/plain": [
       "['Service',\n",
       " 'Charge',\n",
       " 'Included',\n",
       " 'Alarm',\n",
       " 'Backup',\n",
       " 'Generator',\n",
       " 'Walk',\n",
       " 'In',\n",
       " 'Closet',\n",
       " 'En',\n",
       " 'Suite',\n",
       " 'Fibre',\n",
       " 'Internet',\n",
       " 'Furnished',\n",
       " 'Gym',\n",
       " 'Garden',\n",
       " 'Electric',\n",
       " 'Fence',\n",
       " 'Wheelchair',\n",
       " 'Access',\n",
       " 'CCTV',\n",
       " 'BBQ',\n",
       " 'Parking',\n",
       " 'Lift/Elevator',\n",
       " 'Balcony',\n",
       " 'Shopping',\n",
       " 'Centre',\n",
       " 'Bus',\n",
       " 'Stop',\n",
       " 'Golf',\n",
       " 'Course',\n",
       " 'Hospital',\n",
       " 'Scenic',\n",
       " 'View',\n",
       " 'School']"
      ]
     },
     "execution_count": 49,
     "metadata": {},
     "output_type": "execute_result"
    }
   ],
   "source": [
    "house_details = [item for sublist in house_details for item in sublist]\n",
    "house_details"
   ]
  },
  {
   "cell_type": "code",
   "execution_count": 50,
   "metadata": {},
   "outputs": [],
   "source": [
    "generator = 0\n",
    "furnished = 0\n",
    "gym = 0\n",
    "parking = 0\n",
    "lift = 0\n",
    "internet = 0\n",
    "balcony = 0\n",
    "ensuite = 0"
   ]
  },
  {
   "cell_type": "code",
   "execution_count": 51,
   "metadata": {},
   "outputs": [],
   "source": [
    "for i in house_details:\n",
    "    if i.lower() == 'generator':\n",
    "        generator = 1\n",
    "    elif i.lower() == 'furnished':\n",
    "        furnished = 1\n",
    "    elif i.lower() == 'gym':\n",
    "        gym = 1\n",
    "    elif i.lower() == 'parking':\n",
    "        parking = 1\n",
    "    elif i.lower() == 'lift':\n",
    "        lift = 1\n",
    "    elif i.lower() == 'internet':\n",
    "        internet = 1\n",
    "    elif i.lower() == 'balcony':\n",
    "        balcony = 1\n",
    "    elif i.lower() == 'suite':\n",
    "        ensuite = 1"
   ]
  },
  {
   "cell_type": "code",
   "execution_count": 52,
   "metadata": {},
   "outputs": [
    {
     "data": {
      "text/plain": [
       "'165,000'"
      ]
     },
     "execution_count": 52,
     "metadata": {},
     "output_type": "execute_result"
    }
   ],
   "source": [
    "price = house_soup.find('div', class_='flex justify-end items-end space-x-2 ml-auto').find('span', class_='md:text-xxl font-extrabold block').text.split()\n",
    "price = price[1]\n",
    "price"
   ]
  },
  {
   "cell_type": "markdown",
   "metadata": {},
   "source": [
    "# loop thru all the pages:"
   ]
  },
  {
   "cell_type": "code",
   "execution_count": 54,
   "metadata": {},
   "outputs": [],
   "source": [
    "base_url = 'https://www.buyrentkenya.com/'"
   ]
  },
  {
   "cell_type": "code",
   "execution_count": 60,
   "metadata": {},
   "outputs": [
    {
     "name": "stdout",
     "output_type": "stream",
     "text": [
      "Request successful\n",
      "/listings/furnished-2-bedroom-apartment-for-rent-kileleshwa-3643819\n",
      "/listings/furnished-3-bedroom-apartment-for-rent-westlands-area-3644298\n",
      "/listings/furnished-2-bedroom-apartment-for-rent-riverside-3644692\n",
      "/listings/furnished-3-bedroom-apartment-for-rent-riverside-3644000\n",
      "/listings/furnished-3-bedroom-apartment-for-rent-lavington-3645699\n",
      "/listings/2-bedroom-apartment-for-rent-brookside-3645870\n",
      "/listings/3-bedroom-apartment-for-rent-spring-valley-3645869\n",
      "/listings/3-bedroom-apartment-for-rent-general-mathenge-3645868\n",
      "/listings/3-bedroom-apartment-for-rent-spring-valley-3645867\n",
      "/listings/3-bedroom-apartment-for-rent-general-mathenge-3645865\n",
      "/listings/3-bedroom-apartment-for-rent-general-mathenge-3645866\n",
      "/listings/2-bedroom-apartment-for-rent-kiambu-road-3645858\n",
      "/listings/furnished-2-bedroom-apartment-for-rent-westlands-area-3645838\n",
      "/listings/furnished-3-bedroom-apartment-for-rent-spring-valley-3645835\n",
      "/listings/furnished-2-bedroom-apartment-for-rent-spring-valley-3645821\n",
      "/listings/3-bedroom-apartment-for-rent-westlands-area-3645820\n",
      "/listings/furnished-2-bedroom-apartment-for-rent-westlands-area-3645811\n"
     ]
    }
   ],
   "source": [
    "for i in range (1, 217):\n",
    "    if i == 1:\n",
    "        page_url = url\n",
    "    else:\n",
    "        page_url = f'{url}?page={i}'\n",
    "    page_response = requests.get(page_url)\n",
    "    if page_response.status_code != 200:\n",
    "        print(f\"Page {i} request failed\")\n",
    "        continue\n",
    "    else:\n",
    "        print(\"Request successful\")\n",
    "    page_soup = BeautifulSoup(page_response.text, 'lxml')\n",
    "    houses = page_soup.find_all('h2', class_='md:hidden mb-3 font-semibold')\n",
    "    for house in houses:\n",
    "        house_link = house.find('a', class_='no-underline')['href']\n",
    "        print(house_link)\n",
    "    if i == 1:\n",
    "        break"
   ]
  },
  {
   "cell_type": "code",
   "execution_count": null,
   "metadata": {},
   "outputs": [],
   "source": []
  }
 ],
 "metadata": {
  "kernelspec": {
   "display_name": "Python 3",
   "language": "python",
   "name": "python3"
  },
  "language_info": {
   "codemirror_mode": {
    "name": "ipython",
    "version": 3
   },
   "file_extension": ".py",
   "mimetype": "text/x-python",
   "name": "python",
   "nbconvert_exporter": "python",
   "pygments_lexer": "ipython3",
   "version": "3.10.12"
  },
  "orig_nbformat": 4
 },
 "nbformat": 4,
 "nbformat_minor": 2
}

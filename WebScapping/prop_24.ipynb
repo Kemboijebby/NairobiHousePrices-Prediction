{
 "cells": [
  {
   "cell_type": "code",
   "execution_count": 2,
   "metadata": {},
   "outputs": [],
   "source": [
    "import requests\n",
    "import pandas as pd\n",
    "from bs4 import BeautifulSoup"
   ]
  },
  {
   "cell_type": "code",
   "execution_count": 3,
   "metadata": {},
   "outputs": [],
   "source": [
    "url = 'https://www.property24.co.ke/property-to-rent-in-nairobi-c1890'"
   ]
  },
  {
   "cell_type": "code",
   "execution_count": 4,
   "metadata": {},
   "outputs": [],
   "source": [
    "response = requests.get(url)\n",
    "if response.status_code != 200:\n",
    "    print('Request Failed')"
   ]
  },
  {
   "cell_type": "code",
   "execution_count": 5,
   "metadata": {},
   "outputs": [],
   "source": [
    "soup = BeautifulSoup(response.text, 'lxml')"
   ]
  },
  {
   "cell_type": "code",
   "execution_count": 6,
   "metadata": {},
   "outputs": [],
   "source": [
    "Price = []\n",
    "Location = []\n",
    "City = []\n",
    "Bedrooms = []\n",
    "Bathrooms = []\n",
    "Parking = []"
   ]
  },
  {
   "cell_type": "code",
   "execution_count": 7,
   "metadata": {},
   "outputs": [],
   "source": [
    "houses = soup.find_all('div', class_='pull-left sc_listingTileContent')"
   ]
  },
  {
   "cell_type": "code",
   "execution_count": 8,
   "metadata": {},
   "outputs": [
    {
     "data": {
      "text/plain": [
       "21"
      ]
     },
     "execution_count": 8,
     "metadata": {},
     "output_type": "execute_result"
    }
   ],
   "source": [
    "len(houses)"
   ]
  },
  {
   "cell_type": "code",
   "execution_count": 18,
   "metadata": {},
   "outputs": [
    {
     "name": "stdout",
     "output_type": "stream",
     "text": [
      "KSh 350 000 5 5 4\n",
      "House 1 Done\n",
      "KSh 300 000 5 5 4\n",
      "House 2 Done\n",
      "KSh 80 000 1 1 1\n",
      "House 3 Done\n",
      "KSh 160 000 2 2 None\n",
      "House 4 Done\n",
      "KSh 35 000 2 2 None\n",
      "House 5 Done\n",
      "KSh 250 000 4 4 Floor Size:\n",
      "\n",
      "                            2,222\n",
      "                        \n",
      "                        m²\n",
      "House 6 Done\n",
      "KSh 125 000 4 4.5 2\n",
      "House 7 Done\n",
      "KSh 200 000 2 2 2\n",
      "House 8 Done\n",
      "KSh 50 000 3 2 Floor Size:\n",
      "\n",
      "                            180\n",
      "                        \n",
      "                        m²\n",
      "House 9 Done\n",
      "KSh 200 000 3 3 None\n",
      "House 10 Done\n",
      "KSh 100 000 3 3 2\n",
      "House 11 Done\n",
      "KSh 350 000 4 3 None\n",
      "House 12 Done\n",
      "KSh 320 000 4 4 None\n",
      "House 13 Done\n",
      "KSh 250 000 2 2.5 1\n",
      "House 14 Done\n",
      "KSh 350 000 6 6 Erf Size:\n",
      "\n",
      "                            1,000\n",
      "                        \n",
      "                        m²\n",
      "House 15 Done\n",
      "KSh 150 000 1 1 1\n",
      "House 16 Done\n",
      "KSh 300 000 3 4 Erf Size:\n",
      "\n",
      "                            5\n",
      "                        \n",
      "                        m²\n",
      "House 17 Done\n",
      "KSh 130 000 1 2 1\n",
      "House 18 Done\n",
      "KSh 160 000 2 2 Erf Size:\n",
      "\n",
      "                            95\n",
      "                        \n",
      "                        m²\n",
      "House 19 Done\n",
      "KSh 50 000 3 2 Floor Size:\n",
      "\n",
      "                            180\n",
      "                        \n",
      "                        m²\n",
      "House 20 Done\n",
      "KSh 200 000 None None None\n",
      "House 21 Done\n"
     ]
    }
   ],
   "source": [
    "num = 1\n",
    "for house in houses:\n",
    "    try:\n",
    "        price = house.find('div', class_='sc_listingTilePrice primaryColor').find('span').text.strip()\n",
    "    except:\n",
    "        price = None\n",
    "    try:\n",
    "        locality = house.find('div', class_='sc_listingTileAddress primaryColor').text.strip().split(',')\n",
    "        location = locality[-2]\n",
    "        city = locality[-1]\n",
    "    except:\n",
    "        location = None\n",
    "        city = None\n",
    "    try:\n",
    "        details = house.find('div', class_='sc_listingTileIcons').find_all('span')\n",
    "    except:\n",
    "        details = []\n",
    "    if num == 20:\n",
    "        det = details\n",
    "    try:\n",
    "        bedrooms = details[0].text.strip()\n",
    "    except:\n",
    "        bedrooms = None\n",
    "    try:\n",
    "        bathrooms = details[1].text.strip()\n",
    "    except:\n",
    "        bathrooms = None\n",
    "    try:\n",
    "        parking = details[2].text.strip()\n",
    "    except:\n",
    "        parking = None\n",
    "    print(price, bedrooms, bathrooms, parking)\n",
    "    City.append(city)\n",
    "    Location.append(location)\n",
    "    Price.append(price)\n",
    "    Bedrooms.append(bedrooms)\n",
    "    Bathrooms.append(bathrooms)\n",
    "    Parking.append(parking)\n",
    "    print(f'House {num} Done')\n",
    "    num += 1\n",
    "\n",
    "data = {'Location': Location, 'City': City, 'Bedrooms': Bedrooms, 'Bathrooms': Bathrooms, 'Parking': Parking, 'Price': Price}\n",
    "df = pd.DataFrame(data)\n",
    "df.to_csv('demo_prop.csv', index=False)"
   ]
  }
 ],
 "metadata": {
  "kernelspec": {
   "display_name": "Python 3",
   "language": "python",
   "name": "python3"
  },
  "language_info": {
   "codemirror_mode": {
    "name": "ipython",
    "version": 3
   },
   "file_extension": ".py",
   "mimetype": "text/x-python",
   "name": "python",
   "nbconvert_exporter": "python",
   "pygments_lexer": "ipython3",
   "version": "3.10.12"
  },
  "orig_nbformat": 4
 },
 "nbformat": 4,
 "nbformat_minor": 2
}

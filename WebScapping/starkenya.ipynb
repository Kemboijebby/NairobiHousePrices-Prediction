{
 "cells": [
  {
   "cell_type": "code",
   "execution_count": 13,
   "metadata": {},
   "outputs": [],
   "source": [
    "import requests\n",
    "from bs4 import BeautifulSoup\n",
    "import pandas as pd"
   ]
  },
  {
   "cell_type": "code",
   "execution_count": 16,
   "metadata": {},
   "outputs": [],
   "source": [
    "url = 'https://www.the-star.co.ke/classifieds/house-apartment-for-rent/house--nairobi'"
   ]
  },
  {
   "cell_type": "code",
   "execution_count": 17,
   "metadata": {},
   "outputs": [
    {
     "data": {
      "text/plain": [
       "'https://www.the-star.co.ke/classifieds/house-apartment-for-rent/house--nairobi'"
      ]
     },
     "execution_count": 17,
     "metadata": {},
     "output_type": "execute_result"
    }
   ],
   "source": [
    "url"
   ]
  },
  {
   "cell_type": "code",
   "execution_count": null,
   "metadata": {},
   "outputs": [],
   "source": []
  },
  {
   "cell_type": "code",
   "execution_count": 18,
   "metadata": {},
   "outputs": [
    {
     "name": "stdout",
     "output_type": "stream",
     "text": [
      "Request failed\n",
      "403\n"
     ]
    }
   ],
   "source": [
    "data = {'username': 'demo.geek1@gmail.com', 'password': 'i8wKUgn}cKNFfhX'}\n",
    "\n",
    "with requests.Session() as session:\n",
    "    session.post(url, data=data)\n",
    "    response = session.get(url)\n",
    "\n",
    "if response.status_code == 200:\n",
    "    soup = BeautifulSoup(response.text, 'lxml')\n",
    "    print('Request Successful')\n",
    "else:\n",
    "    print(\"Request failed\")\n",
    "print(response.status_code)"
   ]
  },
  {
   "cell_type": "code",
   "execution_count": 14,
   "metadata": {},
   "outputs": [],
   "source": [
    "response = requests.get('https://www.propertypro.co.ke/in/nairobi/')\n",
    "if response.status_code != 200:\n",
    "    print(\"Request failed\")"
   ]
  },
  {
   "cell_type": "code",
   "execution_count": 15,
   "metadata": {},
   "outputs": [],
   "source": [
    "soup = BeautifulSoup(response.text, 'lxml')"
   ]
  },
  {
   "cell_type": "code",
   "execution_count": 16,
   "metadata": {},
   "outputs": [
    {
     "data": {
      "text/plain": [
       "('Westlands', 'Nairobi')"
      ]
     },
     "execution_count": 16,
     "metadata": {},
     "output_type": "execute_result"
    }
   ],
   "source": [
    "place = soup.find('div', class_='single-room-text').find('h4').text.strip()\n",
    "place = place.split()\n",
    "\n",
    "city = place[1]\n",
    "location = place[0]\n",
    "\n",
    "location, city"
   ]
  },
  {
   "cell_type": "code",
   "execution_count": 24,
   "metadata": {},
   "outputs": [
    {
     "data": {
      "text/plain": [
       "'10,000'"
      ]
     },
     "execution_count": 24,
     "metadata": {},
     "output_type": "execute_result"
    }
   ],
   "source": [
    "pricing = soup.find('div', class_='single-room-text').find('h3', class_='listings-price').find_all('span')\n",
    "price = pricing[1].text.strip()\n",
    "price"
   ]
  },
  {
   "cell_type": "code",
   "execution_count": 30,
   "metadata": {},
   "outputs": [
    {
     "name": "stdout",
     "output_type": "stream",
     "text": [
      "[<div class=\"fur-areea\">\n",
      "<span><img alt=\"bed-icon\" src=\"/assets/assets/img/resultpage/71e561d192ed8abb553ba6448816466d-beds.svg\" title=\"bed-icon\"/>1 beds</span>\n",
      "<span><img alt=\"bath-icon\" src=\"/assets/assets/img/resultpage/3945e8adbd5fbe44046a606d2dacd7ca-bath.svg\" title=\"bath-icon\"/>1 baths</span>\n",
      "<span><img alt=\"toilet-icon\" src=\"/assets/assets/img/resultpage/0a8c8b34dbdfcc7b9d5eaeca83e87ebf-toilet.svg\" title=\"toilet-icon\"/>1 Toilets</span>\n",
      "</div>]\n"
     ]
    },
    {
     "data": {
      "text/plain": [
       "('1 beds', '1 baths', '1 Toilets')"
      ]
     },
     "execution_count": 30,
     "metadata": {},
     "output_type": "execute_result"
    }
   ],
   "source": [
    "interior = soup.find('div', class_='single-room-text').find_all('div', class_='fur-areea')\n",
    "print(interior)\n",
    "interior = interior[0].text.strip().split('\\n')\n",
    "bedrooms = interior[0]\n",
    "bathrooms = interior[1]\n",
    "toilets = interior[2]\n",
    "\n",
    "bedrooms, bathrooms, toilets"
   ]
  },
  {
   "cell_type": "code",
   "execution_count": 19,
   "metadata": {},
   "outputs": [],
   "source": [
    "url = 'https://www.property24.co.ke/property-to-rent-in-nairobi-c1890'"
   ]
  },
  {
   "cell_type": "code",
   "execution_count": 21,
   "metadata": {},
   "outputs": [
    {
     "name": "stdout",
     "output_type": "stream",
     "text": [
      "Request Successful\n"
     ]
    }
   ],
   "source": [
    "response = requests.get(url)\n",
    "\n",
    "if response.status_code != 200:\n",
    "    print(\"Request failed\")\n",
    "else:\n",
    "    print('Request Successful')"
   ]
  },
  {
   "cell_type": "code",
   "execution_count": null,
   "metadata": {},
   "outputs": [],
   "source": []
  }
 ],
 "metadata": {
  "kernelspec": {
   "display_name": "Python 3",
   "language": "python",
   "name": "python3"
  },
  "language_info": {
   "codemirror_mode": {
    "name": "ipython",
    "version": 3
   },
   "file_extension": ".py",
   "mimetype": "text/x-python",
   "name": "python",
   "nbconvert_exporter": "python",
   "pygments_lexer": "ipython3",
   "version": "3.10.12"
  },
  "orig_nbformat": 4
 },
 "nbformat": 4,
 "nbformat_minor": 2
}
